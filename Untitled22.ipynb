{
  "nbformat": 4,
  "nbformat_minor": 0,
  "metadata": {
    "colab": {
      "name": "Untitled22.ipynb",
      "provenance": [],
      "authorship_tag": "ABX9TyO0wMsDaKyh5LmA5wHNSwZT",
      "include_colab_link": true
    },
    "kernelspec": {
      "name": "python3",
      "display_name": "Python 3"
    }
  },
  "cells": [
    {
      "cell_type": "markdown",
      "metadata": {
        "id": "view-in-github",
        "colab_type": "text"
      },
      "source": [
        "<a href=\"https://colab.research.google.com/github/MarioTiara/COVID-19/blob/master/Untitled22.ipynb\" target=\"_parent\"><img src=\"https://colab.research.google.com/assets/colab-badge.svg\" alt=\"Open In Colab\"/></a>"
      ]
    },
    {
      "cell_type": "code",
      "metadata": {
        "id": "17xCtUmeDB6q",
        "colab_type": "code",
        "colab": {
          "base_uri": "https://localhost:8080/",
          "height": 163
        },
        "outputId": "c9b0d486-e7d0-4869-8f8e-460938e91971"
      },
      "source": [
        "!git clone https://github.com/MarioTiara/COVID-19.git"
      ],
      "execution_count": 1,
      "outputs": [
        {
          "output_type": "stream",
          "text": [
            "Cloning into 'COVID-19'...\n",
            "remote: Enumerating objects: 3, done.\u001b[K\n",
            "remote: Counting objects: 100% (3/3), done.\u001b[K\n",
            "remote: Compressing objects: 100% (3/3), done.\u001b[K\n",
            "remote: Total 246 (delta 0), reused 0 (delta 0), pack-reused 243\u001b[K\n",
            "Receiving objects: 100% (246/246), 106.15 MiB | 44.19 MiB/s, done.\n",
            "Resolving deltas: 100% (4/4), done.\n",
            "Checking out files: 100% (405/405), done.\n"
          ],
          "name": "stdout"
        }
      ]
    },
    {
      "cell_type": "code",
      "metadata": {
        "id": "960IDGR0EDQy",
        "colab_type": "code",
        "colab": {}
      },
      "source": [
        "import os\n",
        "os.chdir('/content/COVID-19/DATA_X_RAY/')"
      ],
      "execution_count": 0,
      "outputs": []
    },
    {
      "cell_type": "code",
      "metadata": {
        "id": "OZgPqfpGDoIS",
        "colab_type": "code",
        "colab": {}
      },
      "source": [
        "import glob\n",
        "import numpy as np\n",
        "import matplotlib.pyplot as plt\n",
        "import tensorflow as tf"
      ],
      "execution_count": 0,
      "outputs": []
    },
    {
      "cell_type": "code",
      "metadata": {
        "id": "Y5KcIgzlD0yk",
        "colab_type": "code",
        "colab": {}
      },
      "source": [
        "IMG_DIM = (299, 299)\n",
        "train_files = glob.glob('DATA GLOB/TRAIN/*')\n",
        "train_imgs = [tf.keras.preprocessing.image.img_to_array(tf.keras.preprocessing.image.load_img(img, target_size=IMG_DIM)) for img in train_files]\n",
        "train_imgs = np.array(train_imgs)\n",
        "train_labels = [fn.split('\\\\')[-1].split('_')[1].strip() for fn in train_files]\n",
        "\n",
        "validation_files = glob.glob('DATA GLOB/VAL/*')\n",
        "validation_imgs = [tf.keras.preprocessing.image.img_to_array(tf.keras.preprocessing.image.load_img(img, target_size=IMG_DIM)) for img in validation_files]\n",
        "validation_imgs = np.array(validation_imgs)\n",
        "validation_labels = [fn.split('\\\\')[0].split('_')[1].strip() for fn in validation_files]"
      ],
      "execution_count": 0,
      "outputs": []
    },
    {
      "cell_type": "code",
      "metadata": {
        "id": "I6SM517MD9xU",
        "colab_type": "code",
        "colab": {
          "base_uri": "https://localhost:8080/",
          "height": 35
        },
        "outputId": "24e4f7e7-0285-41e4-844f-4024163bf215"
      },
      "source": [
        "print('Train dataset shape:', train_imgs.shape, \n",
        "      '\\tValidation dataset shape:', validation_imgs.shape)"
      ],
      "execution_count": 12,
      "outputs": [
        {
          "output_type": "stream",
          "text": [
            "Train dataset shape: (142, 299, 299, 3) \tValidation dataset shape: (40, 299, 299, 3)\n"
          ],
          "name": "stdout"
        }
      ]
    },
    {
      "cell_type": "code",
      "metadata": {
        "id": "SczjWeWlFEet",
        "colab_type": "code",
        "colab": {
          "base_uri": "https://localhost:8080/",
          "height": 55
        },
        "outputId": "44505618-d877-43f3-8429-83c13c8e40d2"
      },
      "source": [
        "print (train_labels)\n"
      ],
      "execution_count": 34,
      "outputs": [
        {
          "output_type": "stream",
          "text": [
            "['DATA GLOB/TRAIN', 'DATA GLOB/TRAIN', 'DATA GLOB/TRAIN', 'DATA GLOB/TRAIN', 'DATA GLOB/TRAIN', 'DATA GLOB/TRAIN', 'DATA GLOB/TRAIN', 'DATA GLOB/TRAIN', 'DATA GLOB/TRAIN', 'DATA GLOB/TRAIN', 'DATA GLOB/TRAIN', 'DATA GLOB/TRAIN', 'DATA GLOB/TRAIN', 'DATA GLOB/TRAIN', 'DATA GLOB/TRAIN', 'DATA GLOB/TRAIN', 'DATA GLOB/TRAIN', 'DATA GLOB/TRAIN', 'DATA GLOB/TRAIN', 'DATA GLOB/TRAIN', 'DATA GLOB/TRAIN', 'DATA GLOB/TRAIN', 'DATA GLOB/TRAIN', 'DATA GLOB/TRAIN', 'DATA GLOB/TRAIN', 'DATA GLOB/TRAIN', 'DATA GLOB/TRAIN', 'DATA GLOB/TRAIN', 'DATA GLOB/TRAIN', 'DATA GLOB/TRAIN', 'DATA GLOB/TRAIN', 'DATA GLOB/TRAIN', 'DATA GLOB/TRAIN', 'DATA GLOB/TRAIN', 'DATA GLOB/TRAIN', 'DATA GLOB/TRAIN', 'DATA GLOB/TRAIN', 'DATA GLOB/TRAIN', 'DATA GLOB/TRAIN', 'DATA GLOB/TRAIN', 'DATA GLOB/TRAIN', 'DATA GLOB/TRAIN', 'DATA GLOB/TRAIN', 'DATA GLOB/TRAIN', 'DATA GLOB/TRAIN', 'DATA GLOB/TRAIN', 'DATA GLOB/TRAIN', 'DATA GLOB/TRAIN', 'DATA GLOB/TRAIN', 'DATA GLOB/TRAIN', 'DATA GLOB/TRAIN', 'DATA GLOB/TRAIN', 'DATA GLOB/TRAIN', 'DATA GLOB/TRAIN', 'DATA GLOB/TRAIN', 'DATA GLOB/TRAIN', 'DATA GLOB/TRAIN', 'DATA GLOB/TRAIN', 'DATA GLOB/TRAIN', 'DATA GLOB/TRAIN', 'DATA GLOB/TRAIN', 'DATA GLOB/TRAIN', 'DATA GLOB/TRAIN', 'DATA GLOB/TRAIN', 'DATA GLOB/TRAIN', 'DATA GLOB/TRAIN', 'DATA GLOB/TRAIN', 'DATA GLOB/TRAIN', 'DATA GLOB/TRAIN', 'DATA GLOB/TRAIN', 'DATA GLOB/TRAIN', 'DATA GLOB/TRAIN', 'DATA GLOB/TRAIN', 'DATA GLOB/TRAIN', 'DATA GLOB/TRAIN', 'DATA GLOB/TRAIN', 'DATA GLOB/TRAIN', 'DATA GLOB/TRAIN', 'DATA GLOB/TRAIN', 'DATA GLOB/TRAIN', 'DATA GLOB/TRAIN', 'DATA GLOB/TRAIN', 'DATA GLOB/TRAIN', 'DATA GLOB/TRAIN', 'DATA GLOB/TRAIN', 'DATA GLOB/TRAIN', 'DATA GLOB/TRAIN', 'DATA GLOB/TRAIN', 'DATA GLOB/TRAIN', 'DATA GLOB/TRAIN', 'DATA GLOB/TRAIN', 'DATA GLOB/TRAIN', 'DATA GLOB/TRAIN', 'DATA GLOB/TRAIN', 'DATA GLOB/TRAIN', 'DATA GLOB/TRAIN', 'DATA GLOB/TRAIN', 'DATA GLOB/TRAIN', 'DATA GLOB/TRAIN', 'DATA GLOB/TRAIN', 'DATA GLOB/TRAIN', 'DATA GLOB/TRAIN', 'DATA GLOB/TRAIN', 'DATA GLOB/TRAIN', 'DATA GLOB/TRAIN', 'DATA GLOB/TRAIN', 'DATA GLOB/TRAIN', 'DATA GLOB/TRAIN', 'DATA GLOB/TRAIN', 'DATA GLOB/TRAIN', 'DATA GLOB/TRAIN', 'DATA GLOB/TRAIN', 'DATA GLOB/TRAIN', 'DATA GLOB/TRAIN', 'DATA GLOB/TRAIN', 'DATA GLOB/TRAIN', 'DATA GLOB/TRAIN', 'DATA GLOB/TRAIN', 'DATA GLOB/TRAIN', 'DATA GLOB/TRAIN', 'DATA GLOB/TRAIN', 'DATA GLOB/TRAIN', 'DATA GLOB/TRAIN', 'DATA GLOB/TRAIN', 'DATA GLOB/TRAIN', 'DATA GLOB/TRAIN', 'DATA GLOB/TRAIN', 'DATA GLOB/TRAIN', 'DATA GLOB/TRAIN', 'DATA GLOB/TRAIN', 'DATA GLOB/TRAIN', 'DATA GLOB/TRAIN', 'DATA GLOB/TRAIN', 'DATA GLOB/TRAIN', 'DATA GLOB/TRAIN', 'DATA GLOB/TRAIN', 'DATA GLOB/TRAIN', 'DATA GLOB/TRAIN', 'DATA GLOB/TRAIN', 'DATA GLOB/TRAIN', 'DATA GLOB/TRAIN', 'DATA GLOB/TRAIN']\n"
          ],
          "name": "stdout"
        }
      ]
    }
  ]
}