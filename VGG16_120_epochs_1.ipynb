{
  "nbformat": 4,
  "nbformat_minor": 0,
  "metadata": {
    "colab": {
      "name": "VGG16_120_epochs_1.ipynb",
      "provenance": [],
      "include_colab_link": true
    },
    "kernelspec": {
      "name": "python3",
      "display_name": "Python 3"
    },
    "accelerator": "GPU"
  },
  "cells": [
    {
      "cell_type": "markdown",
      "metadata": {
        "id": "view-in-github",
        "colab_type": "text"
      },
      "source": [
        "<a href=\"https://colab.research.google.com/github/MarioTiara/COVID-19/blob/master/VGG16_120_epochs_1.ipynb\" target=\"_parent\"><img src=\"https://colab.research.google.com/assets/colab-badge.svg\" alt=\"Open In Colab\"/></a>"
      ]
    },
    {
      "cell_type": "code",
      "metadata": {
        "id": "mKJV-fff5A3f",
        "colab_type": "code",
        "outputId": "dc1c040d-4fee-46b8-c99e-ab7b91ef863a",
        "colab": {
          "base_uri": "https://localhost:8080/",
          "height": 163
        }
      },
      "source": [
        "!git clone https://github.com/MarioTiara/COVID-19.git"
      ],
      "execution_count": 9,
      "outputs": [
        {
          "output_type": "stream",
          "text": [
            "Cloning into 'COVID-19'...\n",
            "remote: Enumerating objects: 5, done.\u001b[K\n",
            "remote: Counting objects: 100% (5/5), done.\u001b[K\n",
            "remote: Compressing objects: 100% (5/5), done.\u001b[K\n",
            "remote: Total 270 (delta 0), reused 0 (delta 0), pack-reused 265\u001b[K\n",
            "Receiving objects: 100% (270/270), 106.16 MiB | 11.66 MiB/s, done.\n",
            "Resolving deltas: 100% (13/13), done.\n",
            "Checking out files: 100% (648/648), done.\n"
          ],
          "name": "stdout"
        }
      ]
    },
    {
      "cell_type": "code",
      "metadata": {
        "id": "D5_imnVP5LC3",
        "colab_type": "code",
        "colab": {}
      },
      "source": [
        "import os\n",
        "os.chdir('/content/COVID-19/')"
      ],
      "execution_count": 0,
      "outputs": []
    },
    {
      "cell_type": "code",
      "metadata": {
        "id": "Zk-isAKp4BeA",
        "colab_type": "code",
        "colab": {}
      },
      "source": [
        "import glob\n",
        "import numpy as np\n",
        "import pandas as pd\n",
        "import math\n",
        "import seaborn as sns\n",
        "import umap\n",
        "import sys\n",
        "import random\n",
        "import warnings\n",
        "import cv2\n",
        "import os\n",
        "import shutil\n",
        "import itertools\n",
        "import imutils\n",
        "from matplotlib import pyplot\n",
        "import matplotlib.pyplot as plt\n",
        "from matplotlib import pyplot\n",
        "from numpy import expand_dims\n",
        "from PIL import Image\n",
        "from scipy import misc\n",
        "from os import listdir\n",
        "from os.path import isfile,join\n",
        "from collections import Counter\n",
        "from random import shuffle\n",
        "from collections import Counter\n",
        "from itertools import chain\n",
        "from tqdm import tqdm"
      ],
      "execution_count": 0,
      "outputs": []
    },
    {
      "cell_type": "code",
      "metadata": {
        "id": "09wECzK04RYe",
        "colab_type": "code",
        "colab": {}
      },
      "source": [
        "from sklearn.preprocessing import LabelBinarizer\n",
        "from sklearn.model_selection import train_test_split\n",
        "from sklearn.metrics import accuracy_score,confusion_matrix\n",
        "from sklearn.decomposition import PCA\n",
        "from sklearn.manifold import TSNE"
      ],
      "execution_count": 0,
      "outputs": []
    },
    {
      "cell_type": "code",
      "metadata": {
        "id": "D44xrDvV4WCf",
        "colab_type": "code",
        "colab": {}
      },
      "source": [
        "from skimage.io import imread, imshow, imread_collection, concatenate_images\n",
        "from skimage.transform import resize\n",
        "from skimage.morphology import label"
      ],
      "execution_count": 0,
      "outputs": []
    },
    {
      "cell_type": "code",
      "metadata": {
        "id": "MBYIUGVHK1M9",
        "colab_type": "code",
        "colab": {}
      },
      "source": [
        "import tensorflow as tf"
      ],
      "execution_count": 0,
      "outputs": []
    },
    {
      "cell_type": "code",
      "metadata": {
        "id": "luhVuyaF4khn",
        "colab_type": "code",
        "colab": {}
      },
      "source": [
        "RANDOM_SEED = 123"
      ],
      "execution_count": 0,
      "outputs": []
    },
    {
      "cell_type": "code",
      "metadata": {
        "id": "ToY49XRlbBkL",
        "colab_type": "code",
        "colab": {}
      },
      "source": [
        "def load_data(dir_path, img_size=(100,100)):\n",
        "  \n",
        "    #Load resized images as np.arrays to workspace\n",
        "    \n",
        "    X = []\n",
        "    y = []\n",
        "    i = 0\n",
        "    labels = dict()\n",
        "    for path in tqdm(sorted(os.listdir(dir_path))):\n",
        "        if not path.startswith('.'):\n",
        "            labels[i] = path\n",
        "            for file in os.listdir(dir_path + path):\n",
        "                if not file.startswith('.'):\n",
        "                    img = cv2.imread(dir_path + path + '/' + file)\n",
        "                    X.append(img)\n",
        "                    y.append(i)\n",
        "            i += 1\n",
        "    X = np.array(X)\n",
        "    y = np.array(y)\n",
        "    print(f'{len(X)} images loaded from {dir_path} directory.')\n",
        "    return X, y, labels"
      ],
      "execution_count": 0,
      "outputs": []
    },
    {
      "cell_type": "code",
      "metadata": {
        "id": "7Tio0ISNbKun",
        "colab_type": "code",
        "colab": {}
      },
      "source": [
        "TRAIN_DIR = '/content/COVID-19/DATA_X_RAY/TRAIN_CROP/'\n",
        "TEST_DIR = '/content/COVID-19/DATA_X_RAY/TEST_CROP/'\n",
        "VAL_DIR = '/content/COVID-19/DATA_X_RAY/VAL_CROP/'\n",
        "IMG_SIZE = (224,224)"
      ],
      "execution_count": 0,
      "outputs": []
    },
    {
      "cell_type": "code",
      "metadata": {
        "id": "SL7nFWPPdW0B",
        "colab_type": "code",
        "outputId": "c586db11-c78d-42f2-8250-841b60a5b0b6",
        "colab": {
          "base_uri": "https://localhost:8080/",
          "height": 126
        }
      },
      "source": [
        "X_train, y_train, labels = load_data(TRAIN_DIR, IMG_SIZE)\n",
        "X_test, y_test, _ = load_data(TEST_DIR, IMG_SIZE)\n",
        "X_val, y_val, _ = load_data(VAL_DIR, IMG_SIZE)"
      ],
      "execution_count": 0,
      "outputs": [
        {
          "output_type": "stream",
          "text": [
            "100%|██████████| 2/2 [00:05<00:00,  2.53s/it]\n",
            "  0%|          | 0/2 [00:00<?, ?it/s]"
          ],
          "name": "stderr"
        },
        {
          "output_type": "stream",
          "text": [
            "142 images loaded from /content/COVID-19/DATA_X_RAY/TRAIN_CROP/ directory.\n"
          ],
          "name": "stdout"
        },
        {
          "output_type": "stream",
          "text": [
            "100%|██████████| 2/2 [00:00<00:00,  3.48it/s]\n",
            "  0%|          | 0/2 [00:00<?, ?it/s]"
          ],
          "name": "stderr"
        },
        {
          "output_type": "stream",
          "text": [
            "20 images loaded from /content/COVID-19/DATA_X_RAY/TEST_CROP/ directory.\n"
          ],
          "name": "stdout"
        },
        {
          "output_type": "stream",
          "text": [
            "100%|██████████| 2/2 [00:01<00:00,  1.21it/s]"
          ],
          "name": "stderr"
        },
        {
          "output_type": "stream",
          "text": [
            "40 images loaded from /content/COVID-19/DATA_X_RAY/VAL_CROP/ directory.\n"
          ],
          "name": "stdout"
        },
        {
          "output_type": "stream",
          "text": [
            "\n"
          ],
          "name": "stderr"
        }
      ]
    },
    {
      "cell_type": "code",
      "metadata": {
        "id": "GxjuAjQ20IEh",
        "colab_type": "code",
        "colab": {}
      },
      "source": [
        "from sklearn.preprocessing import LabelEncoder\n",
        "\n",
        "le = LabelEncoder()\n",
        "le.fit(train_labels)\n",
        "train_labels_enc = le.transform(train_labels)\n",
        "validation_labels_enc = le.transform(validation_labels)"
      ],
      "execution_count": 0,
      "outputs": []
    },
    {
      "cell_type": "code",
      "metadata": {
        "id": "ZVy-eH-zjSVc",
        "colab_type": "code",
        "colab": {}
      },
      "source": [
        "def preprocess_imgs(set_name, img_size):\n",
        "    \"\"\"\n",
        "    Resize and apply VGG-15 preprocessing\n",
        "    \"\"\"\n",
        "    set_new = []\n",
        "    for img in set_name:\n",
        "        img = cv2.resize(\n",
        "            img,\n",
        "            dsize=img_size,\n",
        "            interpolation=cv2.INTER_CUBIC\n",
        "        )\n",
        "        set_new.append(tf.keras.applications.vgg16.preprocess_input(img))\n",
        "    return np.array(set_new)"
      ],
      "execution_count": 0,
      "outputs": []
    },
    {
      "cell_type": "code",
      "metadata": {
        "id": "ifVRvPqGjXSo",
        "colab_type": "code",
        "colab": {}
      },
      "source": [
        "X_train_prep = preprocess_imgs(set_name=X_train, img_size=IMG_SIZE)\n",
        "X_test_prep = preprocess_imgs(set_name=X_test, img_size=IMG_SIZE)\n",
        "X_val_prep = preprocess_imgs(set_name=X_val, img_size=IMG_SIZE)"
      ],
      "execution_count": 0,
      "outputs": []
    },
    {
      "cell_type": "code",
      "metadata": {
        "id": "hcO3UK-4dBEk",
        "colab_type": "code",
        "colab": {}
      },
      "source": [
        ""
      ],
      "execution_count": 0,
      "outputs": []
    },
    {
      "cell_type": "code",
      "metadata": {
        "id": "Bk9To0wCQqjw",
        "colab_type": "code",
        "colab": {}
      },
      "source": [
        "IMG_SHAPE= (224,224,3)\n",
        "vgg = tf.keras.applications.VGG16(input_shape=IMG_SHAPE,include_top=False,weights='imagenet')"
      ],
      "execution_count": 0,
      "outputs": []
    },
    {
      "cell_type": "code",
      "metadata": {
        "id": "y2TdOnBsWkIv",
        "colab_type": "code",
        "colab": {}
      },
      "source": [
        "output = vgg.layers[-1].output\n",
        "output =tf.keras.layers.Flatten()(output)\n",
        "vgg_model = tf.keras.models.Model(inputs=vgg.input, outputs=output)"
      ],
      "execution_count": 0,
      "outputs": []
    },
    {
      "cell_type": "code",
      "metadata": {
        "id": "3wI50dQFZUsP",
        "colab_type": "code",
        "colab": {}
      },
      "source": [
        "vgg_model.trainable = False\n",
        "for layer in vgg_model.layers:\n",
        "    layer.trainable = False"
      ],
      "execution_count": 0,
      "outputs": []
    },
    {
      "cell_type": "code",
      "metadata": {
        "id": "h1TAJNNmxkkX",
        "colab_type": "code",
        "outputId": "194fc92b-890d-48ce-98fb-24af1902b0d3",
        "colab": {
          "base_uri": "https://localhost:8080/",
          "height": 648
        }
      },
      "source": [
        "import pandas as pd\n",
        "pd.set_option('max_colwidth', -1)\n",
        "layers = [(layer, layer.name, layer.trainable) for layer in vgg_model.layers]\n",
        "pd.DataFrame(layers, columns=['Layer Type', 'Layer Name', 'Layer Trainable'])   "
      ],
      "execution_count": 0,
      "outputs": [
        {
          "output_type": "execute_result",
          "data": {
            "text/html": [
              "<div>\n",
              "<style scoped>\n",
              "    .dataframe tbody tr th:only-of-type {\n",
              "        vertical-align: middle;\n",
              "    }\n",
              "\n",
              "    .dataframe tbody tr th {\n",
              "        vertical-align: top;\n",
              "    }\n",
              "\n",
              "    .dataframe thead th {\n",
              "        text-align: right;\n",
              "    }\n",
              "</style>\n",
              "<table border=\"1\" class=\"dataframe\">\n",
              "  <thead>\n",
              "    <tr style=\"text-align: right;\">\n",
              "      <th></th>\n",
              "      <th>Layer Type</th>\n",
              "      <th>Layer Name</th>\n",
              "      <th>Layer Trainable</th>\n",
              "    </tr>\n",
              "  </thead>\n",
              "  <tbody>\n",
              "    <tr>\n",
              "      <th>0</th>\n",
              "      <td>&lt;tensorflow.python.keras.engine.input_layer.InputLayer object at 0x7fb89e4e56a0&gt;</td>\n",
              "      <td>input_8</td>\n",
              "      <td>False</td>\n",
              "    </tr>\n",
              "    <tr>\n",
              "      <th>1</th>\n",
              "      <td>&lt;tensorflow.python.keras.layers.convolutional.Conv2D object at 0x7fb8b2113d68&gt;</td>\n",
              "      <td>block1_conv1</td>\n",
              "      <td>False</td>\n",
              "    </tr>\n",
              "    <tr>\n",
              "      <th>2</th>\n",
              "      <td>&lt;tensorflow.python.keras.layers.convolutional.Conv2D object at 0x7fb89e4e8d68&gt;</td>\n",
              "      <td>block1_conv2</td>\n",
              "      <td>False</td>\n",
              "    </tr>\n",
              "    <tr>\n",
              "      <th>3</th>\n",
              "      <td>&lt;tensorflow.python.keras.layers.pooling.MaxPooling2D object at 0x7fb8b2151e48&gt;</td>\n",
              "      <td>block1_pool</td>\n",
              "      <td>False</td>\n",
              "    </tr>\n",
              "    <tr>\n",
              "      <th>4</th>\n",
              "      <td>&lt;tensorflow.python.keras.layers.convolutional.Conv2D object at 0x7fb89e4756a0&gt;</td>\n",
              "      <td>block2_conv1</td>\n",
              "      <td>False</td>\n",
              "    </tr>\n",
              "    <tr>\n",
              "      <th>5</th>\n",
              "      <td>&lt;tensorflow.python.keras.layers.convolutional.Conv2D object at 0x7fb89e475a58&gt;</td>\n",
              "      <td>block2_conv2</td>\n",
              "      <td>False</td>\n",
              "    </tr>\n",
              "    <tr>\n",
              "      <th>6</th>\n",
              "      <td>&lt;tensorflow.python.keras.layers.pooling.MaxPooling2D object at 0x7fb89e47b048&gt;</td>\n",
              "      <td>block2_pool</td>\n",
              "      <td>False</td>\n",
              "    </tr>\n",
              "    <tr>\n",
              "      <th>7</th>\n",
              "      <td>&lt;tensorflow.python.keras.layers.convolutional.Conv2D object at 0x7fb89e47ba90&gt;</td>\n",
              "      <td>block3_conv1</td>\n",
              "      <td>False</td>\n",
              "    </tr>\n",
              "    <tr>\n",
              "      <th>8</th>\n",
              "      <td>&lt;tensorflow.python.keras.layers.convolutional.Conv2D object at 0x7fb89e480da0&gt;</td>\n",
              "      <td>block3_conv2</td>\n",
              "      <td>False</td>\n",
              "    </tr>\n",
              "    <tr>\n",
              "      <th>9</th>\n",
              "      <td>&lt;tensorflow.python.keras.layers.convolutional.Conv2D object at 0x7fb89e487470&gt;</td>\n",
              "      <td>block3_conv3</td>\n",
              "      <td>False</td>\n",
              "    </tr>\n",
              "    <tr>\n",
              "      <th>10</th>\n",
              "      <td>&lt;tensorflow.python.keras.layers.pooling.MaxPooling2D object at 0x7fb89e48c438&gt;</td>\n",
              "      <td>block3_pool</td>\n",
              "      <td>False</td>\n",
              "    </tr>\n",
              "    <tr>\n",
              "      <th>11</th>\n",
              "      <td>&lt;tensorflow.python.keras.layers.convolutional.Conv2D object at 0x7fb89e494cc0&gt;</td>\n",
              "      <td>block4_conv1</td>\n",
              "      <td>False</td>\n",
              "    </tr>\n",
              "    <tr>\n",
              "      <th>12</th>\n",
              "      <td>&lt;tensorflow.python.keras.layers.convolutional.Conv2D object at 0x7fb89e494dd8&gt;</td>\n",
              "      <td>block4_conv2</td>\n",
              "      <td>False</td>\n",
              "    </tr>\n",
              "    <tr>\n",
              "      <th>13</th>\n",
              "      <td>&lt;tensorflow.python.keras.layers.convolutional.Conv2D object at 0x7fb89e49a7f0&gt;</td>\n",
              "      <td>block4_conv3</td>\n",
              "      <td>False</td>\n",
              "    </tr>\n",
              "    <tr>\n",
              "      <th>14</th>\n",
              "      <td>&lt;tensorflow.python.keras.layers.pooling.MaxPooling2D object at 0x7fb89e4a2518&gt;</td>\n",
              "      <td>block4_pool</td>\n",
              "      <td>False</td>\n",
              "    </tr>\n",
              "    <tr>\n",
              "      <th>15</th>\n",
              "      <td>&lt;tensorflow.python.keras.layers.convolutional.Conv2D object at 0x7fb89e4a6be0&gt;</td>\n",
              "      <td>block5_conv1</td>\n",
              "      <td>False</td>\n",
              "    </tr>\n",
              "    <tr>\n",
              "      <th>16</th>\n",
              "      <td>&lt;tensorflow.python.keras.layers.convolutional.Conv2D object at 0x7fb89e430358&gt;</td>\n",
              "      <td>block5_conv2</td>\n",
              "      <td>False</td>\n",
              "    </tr>\n",
              "    <tr>\n",
              "      <th>17</th>\n",
              "      <td>&lt;tensorflow.python.keras.layers.convolutional.Conv2D object at 0x7fb89e436518&gt;</td>\n",
              "      <td>block5_conv3</td>\n",
              "      <td>False</td>\n",
              "    </tr>\n",
              "    <tr>\n",
              "      <th>18</th>\n",
              "      <td>&lt;tensorflow.python.keras.layers.pooling.MaxPooling2D object at 0x7fb89e43d400&gt;</td>\n",
              "      <td>block5_pool</td>\n",
              "      <td>False</td>\n",
              "    </tr>\n",
              "    <tr>\n",
              "      <th>19</th>\n",
              "      <td>&lt;tensorflow.python.keras.layers.core.Flatten object at 0x7fb89e445cc0&gt;</td>\n",
              "      <td>flatten_10</td>\n",
              "      <td>False</td>\n",
              "    </tr>\n",
              "  </tbody>\n",
              "</table>\n",
              "</div>"
            ],
            "text/plain": [
              "                                                                          Layer Type  ... Layer Trainable\n",
              "0   <tensorflow.python.keras.engine.input_layer.InputLayer object at 0x7fb89e4e56a0>  ...  False         \n",
              "1   <tensorflow.python.keras.layers.convolutional.Conv2D object at 0x7fb8b2113d68>    ...  False         \n",
              "2   <tensorflow.python.keras.layers.convolutional.Conv2D object at 0x7fb89e4e8d68>    ...  False         \n",
              "3   <tensorflow.python.keras.layers.pooling.MaxPooling2D object at 0x7fb8b2151e48>    ...  False         \n",
              "4   <tensorflow.python.keras.layers.convolutional.Conv2D object at 0x7fb89e4756a0>    ...  False         \n",
              "5   <tensorflow.python.keras.layers.convolutional.Conv2D object at 0x7fb89e475a58>    ...  False         \n",
              "6   <tensorflow.python.keras.layers.pooling.MaxPooling2D object at 0x7fb89e47b048>    ...  False         \n",
              "7   <tensorflow.python.keras.layers.convolutional.Conv2D object at 0x7fb89e47ba90>    ...  False         \n",
              "8   <tensorflow.python.keras.layers.convolutional.Conv2D object at 0x7fb89e480da0>    ...  False         \n",
              "9   <tensorflow.python.keras.layers.convolutional.Conv2D object at 0x7fb89e487470>    ...  False         \n",
              "10  <tensorflow.python.keras.layers.pooling.MaxPooling2D object at 0x7fb89e48c438>    ...  False         \n",
              "11  <tensorflow.python.keras.layers.convolutional.Conv2D object at 0x7fb89e494cc0>    ...  False         \n",
              "12  <tensorflow.python.keras.layers.convolutional.Conv2D object at 0x7fb89e494dd8>    ...  False         \n",
              "13  <tensorflow.python.keras.layers.convolutional.Conv2D object at 0x7fb89e49a7f0>    ...  False         \n",
              "14  <tensorflow.python.keras.layers.pooling.MaxPooling2D object at 0x7fb89e4a2518>    ...  False         \n",
              "15  <tensorflow.python.keras.layers.convolutional.Conv2D object at 0x7fb89e4a6be0>    ...  False         \n",
              "16  <tensorflow.python.keras.layers.convolutional.Conv2D object at 0x7fb89e430358>    ...  False         \n",
              "17  <tensorflow.python.keras.layers.convolutional.Conv2D object at 0x7fb89e436518>    ...  False         \n",
              "18  <tensorflow.python.keras.layers.pooling.MaxPooling2D object at 0x7fb89e43d400>    ...  False         \n",
              "19  <tensorflow.python.keras.layers.core.Flatten object at 0x7fb89e445cc0>            ...  False         \n",
              "\n",
              "[20 rows x 3 columns]"
            ]
          },
          "metadata": {
            "tags": []
          },
          "execution_count": 113
        }
      ]
    },
    {
      "cell_type": "code",
      "metadata": {
        "id": "FvRD1hB2ZZrk",
        "colab_type": "code",
        "colab": {}
      },
      "source": [
        "model =tf.keras.models.Sequential()\n",
        "model.add(vgg_model)\n",
        "model.add(tf.keras.layers.Dense(512, activation='relu', input_dim=input_shape))\n",
        "model.add(tf.keras.layers.Dropout(0.3))\n",
        "model.add(tf.keras.layers.Dense(512, activation='relu'))\n",
        "model.add(tf.keras.layers.Dropout(0.3))\n",
        "model.add(tf.keras.layers.Dense(1, activation='sigmoid'))"
      ],
      "execution_count": 0,
      "outputs": []
    },
    {
      "cell_type": "code",
      "metadata": {
        "id": "q6xEERfbcYW1",
        "colab_type": "code",
        "colab": {}
      },
      "source": [
        "model.compile(loss='binary_crossentropy',\n",
        "              optimizer=tf.keras.optimizers.RMSprop(lr=2e-5),\n",
        "              metrics=['accuracy'])"
      ],
      "execution_count": 0,
      "outputs": []
    },
    {
      "cell_type": "code",
      "metadata": {
        "id": "J1TxBrbIxR2K",
        "colab_type": "code",
        "outputId": "81fe6219-5cbb-4da4-bbf5-859ee2d51e72",
        "colab": {
          "base_uri": "https://localhost:8080/",
          "height": 381
        }
      },
      "source": [
        "model.summary()"
      ],
      "execution_count": 0,
      "outputs": [
        {
          "output_type": "stream",
          "text": [
            "Model: \"sequential_12\"\n",
            "_________________________________________________________________\n",
            "Layer (type)                 Output Shape              Param #   \n",
            "=================================================================\n",
            "model_7 (Model)              (None, 25088)             14714688  \n",
            "_________________________________________________________________\n",
            "dense_18 (Dense)             (None, 512)               12845568  \n",
            "_________________________________________________________________\n",
            "dropout_12 (Dropout)         (None, 512)               0         \n",
            "_________________________________________________________________\n",
            "dense_19 (Dense)             (None, 512)               262656    \n",
            "_________________________________________________________________\n",
            "dropout_13 (Dropout)         (None, 512)               0         \n",
            "_________________________________________________________________\n",
            "dense_20 (Dense)             (None, 1)                 513       \n",
            "=================================================================\n",
            "Total params: 27,823,425\n",
            "Trainable params: 13,108,737\n",
            "Non-trainable params: 14,714,688\n",
            "_________________________________________________________________\n"
          ],
          "name": "stdout"
        }
      ]
    }
  ]
}